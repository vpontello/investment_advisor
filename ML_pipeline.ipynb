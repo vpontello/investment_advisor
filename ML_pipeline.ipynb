{
 "cells": [
  {
   "attachments": {},
   "cell_type": "markdown",
   "metadata": {},
   "source": [
    "# ML Pipeline\n",
    "\n",
    "## Data Preparation"
   ]
  },
  {
   "cell_type": "code",
   "execution_count": 28,
   "metadata": {},
   "outputs": [],
   "source": [
    "from utils import initialize_bucket, plot_importance\n",
    "\n",
    "import pandas as pd\n",
    "import numpy as np\n",
    "import re\n",
    "import ast\n",
    "\n",
    "import matplotlib.pyplot as plt\n",
    "import seaborn as sns\n",
    "\n",
    "from sklearn.model_selection import train_test_split\n",
    "from sklearn.ensemble import RandomForestRegressor\n",
    "from sklearn.model_selection import GridSearchCV\n",
    "from sklearn.pipeline import Pipeline, FeatureUnion\n",
    "from sklearn.model_selection import RepeatedKFold, cross_val_score\n",
    "from sklearn.metrics import r2_score, mean_squared_error\n",
    "from sklearn.preprocessing import StandardScaler\n",
    "\n",
    "from xgboost import XGBRegressor\n",
    "from lightgbm import LGBMRegressor\n",
    "\n",
    "import pickle\n",
    "import json\n",
    "\n",
    "\n"
   ]
  },
  {
   "attachments": {},
   "cell_type": "markdown",
   "metadata": {},
   "source": [
    "### Extracting refined dataset from Google Storage Bucket"
   ]
  },
  {
   "cell_type": "code",
   "execution_count": 29,
   "metadata": {},
   "outputs": [],
   "source": [
    "credentials_path = 'datascience-capstone-project-05b1642f45c3.json'"
   ]
  },
  {
   "cell_type": "code",
   "execution_count": 30,
   "metadata": {},
   "outputs": [],
   "source": [
    "client, bucket = initialize_bucket(credentials_path,'storage-barsianize')\n",
    "\n",
    "path = \"gs://storage-barsianize/refined/base_dataset.csv\"\n",
    "base_dataset =  pd.read_csv(path, index_col=0)\n",
    "df = base_dataset.copy()"
   ]
  },
  {
   "cell_type": "code",
   "execution_count": 31,
   "metadata": {},
   "outputs": [
    {
     "data": {
      "text/html": [
       "<div>\n",
       "<style scoped>\n",
       "    .dataframe tbody tr th:only-of-type {\n",
       "        vertical-align: middle;\n",
       "    }\n",
       "\n",
       "    .dataframe tbody tr th {\n",
       "        vertical-align: top;\n",
       "    }\n",
       "\n",
       "    .dataframe thead th {\n",
       "        text-align: right;\n",
       "    }\n",
       "</style>\n",
       "<table border=\"1\" class=\"dataframe\">\n",
       "  <thead>\n",
       "    <tr style=\"text-align: right;\">\n",
       "      <th></th>\n",
       "      <th>Papel</th>\n",
       "      <th>Tipo</th>\n",
       "      <th>Empresa</th>\n",
       "      <th>Setor</th>\n",
       "      <th>Subsetor</th>\n",
       "      <th>dy_label</th>\n",
       "      <th>cotacao</th>\n",
       "      <th>cotacao_rel</th>\n",
       "      <th>cotacao_median</th>\n",
       "      <th>cotacao_median_rel</th>\n",
       "      <th>...</th>\n",
       "      <th>Div_Bruta</th>\n",
       "      <th>Div_Liquida</th>\n",
       "      <th>Receita_Liquida_12m</th>\n",
       "      <th>EBIT_12m</th>\n",
       "      <th>Receita_Liquida_3m</th>\n",
       "      <th>EBIT_3m</th>\n",
       "      <th>papel</th>\n",
       "      <th>year</th>\n",
       "      <th>date</th>\n",
       "      <th>Data_ult_cot_year</th>\n",
       "    </tr>\n",
       "  </thead>\n",
       "  <tbody>\n",
       "    <tr>\n",
       "      <th>0</th>\n",
       "      <td>AGRO3</td>\n",
       "      <td>ON NM</td>\n",
       "      <td>BRASILAGRO ON NM</td>\n",
       "      <td>Agropecuária</td>\n",
       "      <td>Agricultura</td>\n",
       "      <td>0.0460</td>\n",
       "      <td>15.61</td>\n",
       "      <td>1.662407</td>\n",
       "      <td>11.895</td>\n",
       "      <td>1.266773</td>\n",
       "      <td>...</td>\n",
       "      <td>670359000.0</td>\n",
       "      <td>178850000.0</td>\n",
       "      <td>1.700870e+09</td>\n",
       "      <td>556112000.0</td>\n",
       "      <td>3.149470e+08</td>\n",
       "      <td>12157000.0</td>\n",
       "      <td>AGRO3</td>\n",
       "      <td>2019.0</td>\n",
       "      <td>2019-01-02</td>\n",
       "      <td>2023.0</td>\n",
       "    </tr>\n",
       "    <tr>\n",
       "      <th>0</th>\n",
       "      <td>AGRO3</td>\n",
       "      <td>ON NM</td>\n",
       "      <td>BRASILAGRO ON NM</td>\n",
       "      <td>Agropecuária</td>\n",
       "      <td>Agricultura</td>\n",
       "      <td>0.0794</td>\n",
       "      <td>22.01</td>\n",
       "      <td>2.002730</td>\n",
       "      <td>14.340</td>\n",
       "      <td>1.304823</td>\n",
       "      <td>...</td>\n",
       "      <td>670359000.0</td>\n",
       "      <td>178850000.0</td>\n",
       "      <td>1.700870e+09</td>\n",
       "      <td>556112000.0</td>\n",
       "      <td>3.149470e+08</td>\n",
       "      <td>12157000.0</td>\n",
       "      <td>AGRO3</td>\n",
       "      <td>2021.0</td>\n",
       "      <td>2021-02-27</td>\n",
       "      <td>2023.0</td>\n",
       "    </tr>\n",
       "    <tr>\n",
       "      <th>0</th>\n",
       "      <td>AGRO3</td>\n",
       "      <td>ON NM</td>\n",
       "      <td>BRASILAGRO ON NM</td>\n",
       "      <td>Agropecuária</td>\n",
       "      <td>Agricultura</td>\n",
       "      <td>0.2208</td>\n",
       "      <td>33.03</td>\n",
       "      <td>2.580469</td>\n",
       "      <td>17.905</td>\n",
       "      <td>1.398828</td>\n",
       "      <td>...</td>\n",
       "      <td>670359000.0</td>\n",
       "      <td>178850000.0</td>\n",
       "      <td>1.700870e+09</td>\n",
       "      <td>556112000.0</td>\n",
       "      <td>3.149470e+08</td>\n",
       "      <td>12157000.0</td>\n",
       "      <td>AGRO3</td>\n",
       "      <td>2022.0</td>\n",
       "      <td>2022-03-14</td>\n",
       "      <td>2023.0</td>\n",
       "    </tr>\n",
       "    <tr>\n",
       "      <th>0</th>\n",
       "      <td>ALPA3</td>\n",
       "      <td>ON N1</td>\n",
       "      <td>ALPARGATAS ON N1</td>\n",
       "      <td>Tecidos, Vestuário e Calçados</td>\n",
       "      <td>Calçados</td>\n",
       "      <td>0.0203</td>\n",
       "      <td>14.95</td>\n",
       "      <td>0.103111</td>\n",
       "      <td>31.725</td>\n",
       "      <td>0.218808</td>\n",
       "      <td>...</td>\n",
       "      <td>381066000.0</td>\n",
       "      <td>140082000.0</td>\n",
       "      <td>3.967490e+09</td>\n",
       "      <td>609389000.0</td>\n",
       "      <td>1.089930e+09</td>\n",
       "      <td>161888000.0</td>\n",
       "      <td>ALPA3</td>\n",
       "      <td>2013.0</td>\n",
       "      <td>2013-01-05</td>\n",
       "      <td>2023.0</td>\n",
       "    </tr>\n",
       "    <tr>\n",
       "      <th>0</th>\n",
       "      <td>ALPA3</td>\n",
       "      <td>ON N1</td>\n",
       "      <td>ALPARGATAS ON N1</td>\n",
       "      <td>Tecidos, Vestuário e Calçados</td>\n",
       "      <td>Calçados</td>\n",
       "      <td>0.0342</td>\n",
       "      <td>12.32</td>\n",
       "      <td>0.254021</td>\n",
       "      <td>13.635</td>\n",
       "      <td>0.281134</td>\n",
       "      <td>...</td>\n",
       "      <td>381066000.0</td>\n",
       "      <td>140082000.0</td>\n",
       "      <td>3.967490e+09</td>\n",
       "      <td>609389000.0</td>\n",
       "      <td>1.089930e+09</td>\n",
       "      <td>161888000.0</td>\n",
       "      <td>ALPA3</td>\n",
       "      <td>2014.0</td>\n",
       "      <td>2014-01-08</td>\n",
       "      <td>2023.0</td>\n",
       "    </tr>\n",
       "  </tbody>\n",
       "</table>\n",
       "<p>5 rows × 191 columns</p>\n",
       "</div>"
      ],
      "text/plain": [
       "   Papel   Tipo           Empresa                          Setor     Subsetor  \\\n",
       "0  AGRO3  ON NM  BRASILAGRO ON NM                   Agropecuária  Agricultura   \n",
       "0  AGRO3  ON NM  BRASILAGRO ON NM                   Agropecuária  Agricultura   \n",
       "0  AGRO3  ON NM  BRASILAGRO ON NM                   Agropecuária  Agricultura   \n",
       "0  ALPA3  ON N1  ALPARGATAS ON N1  Tecidos, Vestuário e Calçados     Calçados   \n",
       "0  ALPA3  ON N1  ALPARGATAS ON N1  Tecidos, Vestuário e Calçados     Calçados   \n",
       "\n",
       "   dy_label  cotacao  cotacao_rel  cotacao_median  cotacao_median_rel  ...  \\\n",
       "0    0.0460    15.61     1.662407          11.895            1.266773  ...   \n",
       "0    0.0794    22.01     2.002730          14.340            1.304823  ...   \n",
       "0    0.2208    33.03     2.580469          17.905            1.398828  ...   \n",
       "0    0.0203    14.95     0.103111          31.725            0.218808  ...   \n",
       "0    0.0342    12.32     0.254021          13.635            0.281134  ...   \n",
       "\n",
       "     Div_Bruta  Div_Liquida  Receita_Liquida_12m     EBIT_12m  \\\n",
       "0  670359000.0  178850000.0         1.700870e+09  556112000.0   \n",
       "0  670359000.0  178850000.0         1.700870e+09  556112000.0   \n",
       "0  670359000.0  178850000.0         1.700870e+09  556112000.0   \n",
       "0  381066000.0  140082000.0         3.967490e+09  609389000.0   \n",
       "0  381066000.0  140082000.0         3.967490e+09  609389000.0   \n",
       "\n",
       "   Receita_Liquida_3m      EBIT_3m  papel    year        date  \\\n",
       "0        3.149470e+08   12157000.0  AGRO3  2019.0  2019-01-02   \n",
       "0        3.149470e+08   12157000.0  AGRO3  2021.0  2021-02-27   \n",
       "0        3.149470e+08   12157000.0  AGRO3  2022.0  2022-03-14   \n",
       "0        1.089930e+09  161888000.0  ALPA3  2013.0  2013-01-05   \n",
       "0        1.089930e+09  161888000.0  ALPA3  2014.0  2014-01-08   \n",
       "\n",
       "   Data_ult_cot_year  \n",
       "0             2023.0  \n",
       "0             2023.0  \n",
       "0             2023.0  \n",
       "0             2023.0  \n",
       "0             2023.0  \n",
       "\n",
       "[5 rows x 191 columns]"
      ]
     },
     "execution_count": 31,
     "metadata": {},
     "output_type": "execute_result"
    }
   ],
   "source": [
    "df.head()"
   ]
  },
  {
   "attachments": {},
   "cell_type": "markdown",
   "metadata": {},
   "source": [
    "#### Defining Label"
   ]
  },
  {
   "cell_type": "code",
   "execution_count": 32,
   "metadata": {},
   "outputs": [
    {
     "data": {
      "text/plain": [
       "Papel                0\n",
       "roe_spread           0\n",
       "roic_spread          0\n",
       "roe                  0\n",
       "roe_rel              0\n",
       "                    ..\n",
       "pcg_std              0\n",
       "pcg_std_rel          0\n",
       "pcg_spread           0\n",
       "pebit                0\n",
       "Data_ult_cot_year    0\n",
       "Length: 191, dtype: int64"
      ]
     },
     "execution_count": 32,
     "metadata": {},
     "output_type": "execute_result"
    }
   ],
   "source": [
    "df.isna().sum().sort_values(ascending=False)"
   ]
  },
  {
   "cell_type": "code",
   "execution_count": null,
   "metadata": {},
   "outputs": [],
   "source": []
  },
  {
   "attachments": {},
   "cell_type": "markdown",
   "metadata": {},
   "source": [
    "#### Adjust data types"
   ]
  },
  {
   "cell_type": "code",
   "execution_count": 33,
   "metadata": {},
   "outputs": [
    {
     "data": {
      "text/plain": [
       "Index(['Papel', 'Tipo', 'Empresa', 'Setor', 'Subsetor', 'dy_label', 'cotacao',\n",
       "       'cotacao_rel', 'cotacao_median', 'cotacao_median_rel',\n",
       "       ...\n",
       "       'Div_Bruta', 'Div_Liquida', 'Receita_Liquida_12m', 'EBIT_12m',\n",
       "       'Receita_Liquida_3m', 'EBIT_3m', 'papel', 'year', 'date',\n",
       "       'Data_ult_cot_year'],\n",
       "      dtype='object', length=191)"
      ]
     },
     "execution_count": 33,
     "metadata": {},
     "output_type": "execute_result"
    }
   ],
   "source": [
    "df.columns"
   ]
  },
  {
   "attachments": {},
   "cell_type": "markdown",
   "metadata": {},
   "source": [
    "#### Numerical encoding for object variables"
   ]
  },
  {
   "cell_type": "code",
   "execution_count": 34,
   "metadata": {},
   "outputs": [],
   "source": [
    "features_to_drop = ['Data_ult_cot','papel','date','Data_ult_cot_year','year']\n",
    "df.drop(features_to_drop, axis=1, inplace=True)"
   ]
  },
  {
   "cell_type": "code",
   "execution_count": 35,
   "metadata": {},
   "outputs": [
    {
     "name": "stdout",
     "output_type": "stream",
     "text": [
      "Index(['Tipo', 'Setor', 'Subsetor'], dtype='object')\n"
     ]
    }
   ],
   "source": [
    "df_objects = df.select_dtypes('object').copy()\n",
    "df_objects = df_objects.drop(['Empresa','Papel'], axis=1)\n",
    "object_cols = df_objects.columns\n",
    "print(object_cols)"
   ]
  },
  {
   "cell_type": "code",
   "execution_count": 36,
   "metadata": {},
   "outputs": [
    {
     "data": {
      "text/plain": [
       "Papel                   object\n",
       "Tipo                      int8\n",
       "Empresa                 object\n",
       "Setor                     int8\n",
       "Subsetor                  int8\n",
       "                        ...   \n",
       "Div_Liquida            float64\n",
       "Receita_Liquida_12m    float64\n",
       "EBIT_12m               float64\n",
       "Receita_Liquida_3m     float64\n",
       "EBIT_3m                float64\n",
       "Length: 186, dtype: object"
      ]
     },
     "execution_count": 36,
     "metadata": {},
     "output_type": "execute_result"
    }
   ],
   "source": [
    "for col in object_cols:\n",
    "    df[col] = df_objects[col].astype('category').cat.codes\n",
    "\n",
    "df.dtypes"
   ]
  },
  {
   "attachments": {},
   "cell_type": "markdown",
   "metadata": {},
   "source": [
    "#### Spliting data into training a test data"
   ]
  },
  {
   "cell_type": "code",
   "execution_count": 37,
   "metadata": {},
   "outputs": [
    {
     "data": {
      "text/plain": [
       "Receita_Liquida_12m            6.168670e+11\n",
       "Receita_Liquida_12m_median     6.168670e+11\n",
       "Receita_Liquida_12m_mean       6.168670e+11\n",
       "patrliq                        3.607000e+11\n",
       "patrliq_median                 3.348585e+11\n",
       "                                   ...     \n",
       "Receita_Liquida_12m_std        0.000000e+00\n",
       "Receita_Liquida_12m_std_rel    0.000000e+00\n",
       "Receita_Liquida_12m_spread     0.000000e+00\n",
       "EBIT_12m_spread                0.000000e+00\n",
       "Ativo_Circulante_std           0.000000e+00\n",
       "Length: 103, dtype: float64"
      ]
     },
     "execution_count": 37,
     "metadata": {},
     "output_type": "execute_result"
    }
   ],
   "source": [
    "X.max().sort_values(ascending=False)"
   ]
  },
  {
   "cell_type": "code",
   "execution_count": 38,
   "metadata": {},
   "outputs": [
    {
     "name": "stdout",
     "output_type": "stream",
     "text": [
      "features X_train: 183\n",
      "features X_test: 183\n",
      "XGBoost cross val score: -517.5081527339431\n",
      "test score: 0.037766618769775384 \n",
      "train score: 0.9999996891222772\n"
     ]
    },
    {
     "data": {
      "image/png": "[encoded data removed]",
      "text/plain": [
       "<Figure size 1000x1400 with 2 Axes>"
      ]
     },
     "metadata": {
      "needs_background": "light"
     },
     "output_type": "display_data"
    }
   ],
   "source": [
    "# using the standard scaler to standardize the data\n",
    "scaler = StandardScaler()\n",
    "\n",
    "# separating the train and target features\n",
    "X = df.drop(['Papel','Empresa','dy_label'], axis=1)\n",
    "y = df['dy_label']\n",
    "\n",
    "# train and test datasets split\n",
    "X_train, X_test, y_train, y_test = train_test_split(X, y, test_size=0.30, random_state=42)\n",
    "\n",
    "# standardization of the dataset\n",
    "X_train = scaler.fit_transform(X_train)\n",
    "X_test = scaler.transform(X_test)\n",
    "\n",
    "# check the shape of the train and test datasets\n",
    "print(f'features X_train: {len(X_train[1])}\\nfeatures X_test: {len(X_test[1])}')\n",
    "\n",
    "# Learning - XGBoost\n",
    "xgbc = XGBRegressor()\n",
    "xgbc.fit(X_train, y_train)\n",
    "xgbc_pred_train=xgbc.predict(X_train)\n",
    "xgbc_pred_test=xgbc.predict(X_test)\n",
    "\n",
    "# performing crossvalidation test \n",
    "xgscore = np.mean(cross_val_score(estimator=xgbc,\n",
    "                       X=X_train, y=y_train, cv=5))\n",
    "# printing cross validation results\n",
    "print(f'XGBoost cross val score: {xgscore}')\n",
    "\n",
    "# analysing train and test data results\n",
    "train_score_xgbc =  r2_score(y_train, xgbc_pred_train)\n",
    "test_score_xgbc = r2_score(y_test, xgbc_pred_test)\n",
    "# printing r2 scores of training and test\n",
    "print(f'test score: {test_score_xgbc} \\ntrain score: {train_score_xgbc}')\n",
    "\n",
    "# getting the most important features\n",
    "dict_importance = xgbc.get_booster().get_score(importance_type=\"total_gain\")\n",
    "d={}\n",
    "# cleanse the data\n",
    "for index, value in dict_importance.items():\n",
    "    d[X.columns[int(index[1:])]] = value\n",
    "# transforming data to a dataframe\n",
    "most_important_XGBoost_review = pd.DataFrame(d, index=['Total gain']).T\n",
    "most_important_XGBoost_review = most_important_XGBoost_review[['Total gain']].sort_values(ascending=False, by='Total gain')\n",
    "\n",
    "# plot most important features\n",
    "plot_importance(most_important_XGBoost_review, 'Total gain', 'XGBoost Model [Total gain]')"
   ]
  },
  {
   "attachments": {},
   "cell_type": "markdown",
   "metadata": {},
   "source": [
    "### Building a Machine Learning Pipeline "
   ]
  },
  {
   "cell_type": "markdown",
   "metadata": {},
   "source": []
  },
  {
   "cell_type": "code",
   "execution_count": 39,
   "metadata": {},
   "outputs": [],
   "source": [
    "def build_pipelines(regressors):\n",
    "    pipelines = {}\n",
    "    for algorithm,regressor in regressors.items():\n",
    "        pipeline = Pipeline([\n",
    "            ('reg',regressor)\n",
    "        ])\n",
    "        pipelines[algorithm] = pipeline\n",
    "\n",
    "    return pipelines"
   ]
  },
  {
   "cell_type": "code",
   "execution_count": 40,
   "metadata": {},
   "outputs": [],
   "source": [
    "\n",
    "def build_models(classifiers,parameters_dict):\n",
    "    pipelines = build_pipelines(classifiers)\n",
    "\n",
    "    cvs = {}\n",
    "    \n",
    "    for algorithm,parameters in parameters_dict.items():\n",
    "        # create grid search object\n",
    "        cv = GridSearchCV(pipelines[algorithm], param_grid=parameters)\n",
    "        cvs[algorithm] = cv\n",
    "    \n",
    "    return cvs"
   ]
  },
  {
   "cell_type": "code",
   "execution_count": 41,
   "metadata": {},
   "outputs": [
    {
     "ename": "NameError",
     "evalue": "name 'load_data' is not defined",
     "output_type": "error",
     "traceback": [
      "\u001b[1;31m---------------------------------------------------------------------------\u001b[0m",
      "\u001b[1;31mNameError\u001b[0m                                 Traceback (most recent call last)",
      "\u001b[1;32mc:\\Users\\Pontello\\repos\\DataScience_Nanodegree\\06_Capstone_Project\\ML_pipeline.ipynb Cell 23\u001b[0m in \u001b[0;36m<cell line: 60>\u001b[1;34m()\u001b[0m\n\u001b[0;32m     <a href='vscode-notebook-cell:/c%3A/Users/Pontello/repos/DataScience_Nanodegree/06_Capstone_Project/ML_pipeline.ipynb#X41sZmlsZQ%3D%3D?line=54'>55</a>\u001b[0m         display_and_store_results(model, y_test, y_pred, algorithm)\n\u001b[0;32m     <a href='vscode-notebook-cell:/c%3A/Users/Pontello/repos/DataScience_Nanodegree/06_Capstone_Project/ML_pipeline.ipynb#X41sZmlsZQ%3D%3D?line=56'>57</a>\u001b[0m     \u001b[39mreturn\u001b[39;00m models\n\u001b[1;32m---> <a href='vscode-notebook-cell:/c%3A/Users/Pontello/repos/DataScience_Nanodegree/06_Capstone_Project/ML_pipeline.ipynb#X41sZmlsZQ%3D%3D?line=59'>60</a>\u001b[0m models  \u001b[39m=\u001b[39m main()\n",
      "\u001b[1;32mc:\\Users\\Pontello\\repos\\DataScience_Nanodegree\\06_Capstone_Project\\ML_pipeline.ipynb Cell 23\u001b[0m in \u001b[0;36mmain\u001b[1;34m()\u001b[0m\n\u001b[0;32m     <a href='vscode-notebook-cell:/c%3A/Users/Pontello/repos/DataScience_Nanodegree/06_Capstone_Project/ML_pipeline.ipynb#X41sZmlsZQ%3D%3D?line=30'>31</a>\u001b[0m \u001b[39mdef\u001b[39;00m \u001b[39mmain\u001b[39m():\n\u001b[1;32m---> <a href='vscode-notebook-cell:/c%3A/Users/Pontello/repos/DataScience_Nanodegree/06_Capstone_Project/ML_pipeline.ipynb#X41sZmlsZQ%3D%3D?line=31'>32</a>\u001b[0m     X, y \u001b[39m=\u001b[39m load_data()\n\u001b[0;32m     <a href='vscode-notebook-cell:/c%3A/Users/Pontello/repos/DataScience_Nanodegree/06_Capstone_Project/ML_pipeline.ipynb#X41sZmlsZQ%3D%3D?line=32'>33</a>\u001b[0m     X_train, X_test, y_train, y_test \u001b[39m=\u001b[39m train_test_split(X, y,test_size\u001b[39m=\u001b[39m\u001b[39m0.3\u001b[39m)\n\u001b[0;32m     <a href='vscode-notebook-cell:/c%3A/Users/Pontello/repos/DataScience_Nanodegree/06_Capstone_Project/ML_pipeline.ipynb#X41sZmlsZQ%3D%3D?line=34'>35</a>\u001b[0m     \u001b[39m# reading the training parameters for grid search\u001b[39;00m\n",
      "\u001b[1;31mNameError\u001b[0m: name 'load_data' is not defined"
     ]
    }
   ],
   "source": [
    "def display_and_store_results(cv,y_test,y_pred,algorithm):\n",
    "    \n",
    "    columns = y_test.columns\n",
    "    classification_reports = []\n",
    "    for i, col in enumerate(columns):\n",
    "        print(col)\n",
    "        classif_report = classification_report(y_test[col], y_pred[:,i])\n",
    "        print(classif_report)\n",
    "        classification_reports.append(classif_report)\n",
    "        print('___________________________________')\n",
    "        \n",
    "    print(\"\\nBest Parameters:\", cv.best_params_)\n",
    "    print('##################################')\n",
    "\n",
    "    performance = {\n",
    "        'algorithm':algorithm,\n",
    "        'best_params':cv.best_params_,\n",
    "        'class':classification_reports\n",
    "    }\n",
    "\n",
    "    patch = '../data/03_models/out/'\n",
    "    filename = patch + algorithm\n",
    "\n",
    "    json.dump(performance, open(filename+'_results.json', 'w'))   \n",
    "    pickle.dump(cv.best_estimator_, open(filename+'.pkl', 'wb'))\n",
    "\n",
    "\n",
    "\n",
    "    \n",
    "\n",
    "def main():\n",
    "    X, y = load_data()\n",
    "    X_train, X_test, y_train, y_test = train_test_split(X, y,test_size=0.3)\n",
    "\n",
    "    # reading the training parameters for grid search\n",
    "    with open('../data/03_models/in/params.json') as json_file:\n",
    "        parameters = json.load(json_file)\n",
    "        for key_1, value_1 in params.items():\n",
    "            for key_2, value_2 in value_1.items():\n",
    "                parameters[key_1][key_2] = ast.literal_eval(value_2)\n",
    "\n",
    "    # defining which classifiers are going to be used\n",
    "    regressors = {\n",
    "        'LGBMRegressor':LGBMRegressor(),\n",
    "        'XGBRegressor':XGBRegressor(),\n",
    "        'RandomForestRegressor':RandomForestRegressor()\n",
    "    }\n",
    "\n",
    "    models = build_models(regressors,parameters)\n",
    "\n",
    "    for algorithm, model in models.items():\n",
    "        model.fit(X_train, y_train)\n",
    "        y_pred = model.predict(X_test)\n",
    "        \n",
    "        display_and_store_results(model, y_test, y_pred, algorithm)\n",
    "\n",
    "    return models\n",
    "\n",
    "\n",
    "models  = main()"
   ]
  },
  {
   "cell_type": "code",
   "execution_count": null,
   "metadata": {},
   "outputs": [],
   "source": [
    "regressors = {\n",
    "        'LGBMRegressor':LGBMRegressor(),\n",
    "        'XGBRegressor':XGBRegressor(),\n",
    "        'RandomForestRegressor':RandomForestRegressor()\n",
    "    }\n",
    "\n",
    "with open('data/params.json') as json_file:\n",
    "        parameters = json.load(json_file)\n",
    "        for key_1, value_1 in parameters.items():\n",
    "            for key_2, value_2 in value_1.items():\n",
    "                parameters[key_1][key_2] = ast.literal_eval(value_2)\n",
    "\n",
    "models = build_models(regressors,parameters)"
   ]
  }
 ],
 "metadata": {
  "kernelspec": {
   "display_name": "base",
   "language": "python",
   "name": "python3"
  },
  "language_info": {
   "codemirror_mode": {
    "name": "ipython",
    "version": 3
   },
   "file_extension": ".py",
   "mimetype": "text/x-python",
   "name": "python",
   "nbconvert_exporter": "python",
   "pygments_lexer": "ipython3",
   "version": "3.9.12"
  },
  "orig_nbformat": 4,
  "vscode": {
   "interpreter": {
    "hash": "c55a5ca6a4c1f1ef62c1036c8fbd5c92f4c8bedcd7e16f2fbeae2f8c4a338b15"
   }
  }
 },
 "nbformat": 4,
 "nbformat_minor": 2
}
